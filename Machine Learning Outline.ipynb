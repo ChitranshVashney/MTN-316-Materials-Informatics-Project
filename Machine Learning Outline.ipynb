{
 "cells": [
  {
   "cell_type": "markdown",
   "metadata": {},
   "source": [
    "\n",
    "<font size=\"4\">\n",
    "    \n",
    "# A practical guide to machine learning materials (with python)\n",
    "_____\n",
    "## Find some materials data\n",
    "\n",
    "In order to do some machine learning, we need materials data. \n",
    "\n",
    "Some easy places to get data include: \n",
    "\n",
    "- [Citrination](https://citrination.com). You will need to make an account. Probably want to use API's to get a useful amount of data.\n",
    "\n",
    "- [Materials Project](https://materialsproject.org/). Same deal. You will need to make an account. Again, you will probably want to use API's to get a useful amount of data. <br>\n",
    "\n",
    "- [Aflow](http://aflowlib.org/). Just need to search for the property you want. Data is retruned in html table. This can easily be copied into excel.\n",
    "\n",
    "- [Matminer](https://hackingmaterials.github.io/matminer/). \"Matminer is a Python library for data mining the properties of materials\". A small bit of python will give you quick access to Citrination and Materials Project data as well as select data  from individual publications.\n",
    "\n",
    "- [Literature](https://scholar.google.com/).\n",
    "\n",
    "For this guide, we can use data obtained from the [Aflow](http://aflowlib.org/). This [link](https://youtu.be/ptLzE0o6sGs) showns me using aflow to get elastic data and saving it to a CSV file (If you follow the video, don't just grab the first thousand. You will likely want to return 3000 compounds to make sure you get everything! There are a total of 2382 ternary-compounds with elastic data).\n",
    "\n",
    "## Clean the data\n",
    "\n",
    "Once we have data, we want to make sure that the data is clean and usable. This means we need to know how we want to use the data. \n",
    "\n",
    "In our case, we will be using the composition to try to predict some materials properties. \n",
    "\n",
    "For this reason, we will want to make sure our data is formated to clearly have a composition and its associated properties. The following table gives an example of what we are looking for. Using elastic properties as our target for learning, we might get something like this.\n",
    "\n",
    "| formula | Bulk Modulus (GPa) | Shear Modulus (GPa) |\n",
    "|:---|:---|:---|\n",
    "| Ag10S8Sb2 | 35.2 | 11.7 |\n",
    "| Ag1Al1S2 | 71.6 | 32.5 |\n",
    "|... | ... | ... |\n",
    "| Sn6V6Y1 | 112.3 | 70.9 |\n",
    "\n",
    "If you grabbed the aflow data following the youtube link. You will notice the 'ENTRY' column has the formula as well as the unique aflow id. in square-brackets. We can use python 3 to remove this. \n",
    "\n",
    "## Evaluate it\n",
    "- What is the distribution? \n",
    "- Are there duplicates? \n",
    "- Are there distince chemical groups? \n",
    "- Are the auxilary properties?\n",
    "\n",
    "## Featurize the data (machine readable representation of formula)\n",
    "\n",
    "## Split the data into training set (for building the model) and test set (for ensuring out-of-sample performance)\n",
    "\n",
    "## Consider scaling the features\n",
    "\n",
    "## Select desired algorithms\n",
    "\n",
    "## Optimize algorithm parameters\n",
    "\n",
    "## Check performance on the test set\n",
    "\n",
    "## Make predictions on future compounds\n",
    "</font>"
   ]
  },
  {
   "cell_type": "code",
   "execution_count": 1,
   "metadata": {},
   "outputs": [
    {
     "ename": "SyntaxError",
     "evalue": "invalid syntax (<ipython-input-1-3a2fc35faa85>, line 1)",
     "output_type": "error",
     "traceback": [
      "\u001b[1;36m  File \u001b[1;32m\"<ipython-input-1-3a2fc35faa85>\"\u001b[1;36m, line \u001b[1;32m1\u001b[0m\n\u001b[1;33m    .text_cell .CodeMirror pre {\u001b[0m\n\u001b[1;37m    ^\u001b[0m\n\u001b[1;31mSyntaxError\u001b[0m\u001b[1;31m:\u001b[0m invalid syntax\n"
     ]
    }
   ],
   "source": []
  },
  {
   "cell_type": "code",
   "execution_count": null,
   "metadata": {},
   "outputs": [],
   "source": []
  },
  {
   "cell_type": "code",
   "execution_count": null,
   "metadata": {},
   "outputs": [],
   "source": []
  }
 ],
 "metadata": {
  "kernelspec": {
   "display_name": "Python 3",
   "language": "python",
   "name": "python3"
  },
  "language_info": {
   "codemirror_mode": {
    "name": "ipython",
    "version": 3
   },
   "file_extension": ".py",
   "mimetype": "text/x-python",
   "name": "python",
   "nbconvert_exporter": "python",
   "pygments_lexer": "ipython3",
   "version": "3.7.1"
  }
 },
 "nbformat": 4,
 "nbformat_minor": 2
}
